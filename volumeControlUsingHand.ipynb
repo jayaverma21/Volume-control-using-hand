{
 "cells": [
  {
   "cell_type": "code",
   "execution_count": 3,
   "id": "49840368-0fb3-4654-abae-8922780f555c",
   "metadata": {},
   "outputs": [
    {
     "name": "stdout",
     "output_type": "stream",
     "text": [
      "Requirement already satisfied: cvzone in c:\\users\\jaya verma\\anaconda3\\lib\\site-packages (1.6.1)\n",
      "Requirement already satisfied: opencv-python in c:\\users\\jaya verma\\anaconda3\\lib\\site-packages (from cvzone) (4.9.0.80)\n",
      "Requirement already satisfied: numpy in c:\\users\\jaya verma\\anaconda3\\lib\\site-packages (from cvzone) (1.26.4)\n",
      "Note: you may need to restart the kernel to use updated packages.\n"
     ]
    }
   ],
   "source": [
    "pip install cvzone"
   ]
  },
  {
   "cell_type": "code",
   "execution_count": null,
   "id": "ee9c0437-de4c-4c91-915c-668cba6c863a",
   "metadata": {},
   "outputs": [
    {
     "name": "stderr",
     "output_type": "stream",
     "text": [
      "C:\\Users\\jaya verma\\anaconda3\\Lib\\site-packages\\google\\protobuf\\symbol_database.py:55: UserWarning: SymbolDatabase.GetPrototype() is deprecated. Please use message_factory.GetMessageClass() instead. SymbolDatabase.GetPrototype() will be removed soon.\n",
      "  warnings.warn('SymbolDatabase.GetPrototype() is deprecated. Please '\n"
     ]
    }
   ],
   "source": [
    "import cv2\n",
    "import numpy as np\n",
    "from cvzone.HandTrackingModule import HandDetector\n",
    "import pyautogui\n",
    "\n",
    "detector = HandDetector(detectionCon=0.8)\n",
    "min_volume = 0\n",
    "max_volume = 100\n",
    "cap = cv2.VideoCapture(0)\n",
    "while True:\n",
    "    success, frame = cap.read()\n",
    "    if not success:\n",
    "        break\n",
    "    frame = cv2.flip(frame, 1)\n",
    "    hands, frame = detector.findHands(frame)\n",
    "    if hands:\n",
    "        for hand in hands:\n",
    "            landmarks = hand[\"lmList\"]\n",
    "            bbox = hand[\"bbox\"]\n",
    "            thumb_tip = landmarks[4]\n",
    "            index_tip = landmarks[8]\n",
    "            thumb_index_distance = np.linalg.norm(np.subtract(thumb_tip, index_tip))\n",
    "            volume = np.interp(thumb_index_distance, [20, 200], [min_volume, max_volume])\n",
    "            volume = int(max(min(volume, max_volume), min_volume))\n",
    "            pyautogui.press('volumedown') if volume < 50 else pyautogui.press('volumeup')\n",
    "            cv2.putText(frame, f\"Volume: {volume}%\", (bbox[0], bbox[1] - 20),\n",
    "                        cv2.FONT_HERSHEY_PLAIN, 1, (255, 0, 0), 2)\n",
    "    cv2.imshow(\"Volume Control\", frame)\n",
    "    if cv2.waitKey(1) & 0xFF == ord('q'):\n",
    "        break\n",
    "cap.release()\n",
    "cv2.destroyAllWindows()"
   ]
  },
  {
   "cell_type": "code",
   "execution_count": null,
   "id": "fe6ccd70-9674-4809-bf4a-d85f33d20a44",
   "metadata": {},
   "outputs": [],
   "source": []
  }
 ],
 "metadata": {
  "kernelspec": {
   "display_name": "Python 3 (ipykernel)",
   "language": "python",
   "name": "python3"
  },
  "language_info": {
   "codemirror_mode": {
    "name": "ipython",
    "version": 3
   },
   "file_extension": ".py",
   "mimetype": "text/x-python",
   "name": "python",
   "nbconvert_exporter": "python",
   "pygments_lexer": "ipython3",
   "version": "3.11.7"
  }
 },
 "nbformat": 4,
 "nbformat_minor": 5
}
